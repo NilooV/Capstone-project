{
 "cells": [
  {
   "cell_type": "code",
   "execution_count": 3,
   "id": "309342b4-d2a7-48a3-95b0-a8ba2866d5f5",
   "metadata": {
    "tags": []
   },
   "outputs": [],
   "source": [
    "import pandas as pd\n",
    "import numpy as np\n",
    "import pandas as pd\n",
    "import matplotlib.pyplot as plt\n",
    "from scipy.stats import ttest_ind\n",
    "from scipy.stats import ttest_ind\n",
    "\n",
    "# Load the datasets into DataFrames\n",
    "df = pd.read_csv('stand-alone-policy-or-plan-for-mental-health.csv')\n",
    "source1_df = pd.read_csv('death-rates-from-mental-and-substance-disorders-by-age-who.csv')\n",
    "\n",
    "\n",
    "# Merge the DataFrames based on both 'Country' and 'Year' columns\n",
    "merged_df = pd.merge(df, source1_df, on=['Entity', 'Year'], how='inner')\n",
    "\n",
    "\n",
    "# Save the filtered data to a new file\n",
    "df_final = merged_df[merged_df[\"Year\"] == 2014]\n",
    "df_final.to_csv('merged_data.csv', index=False)"
   ]
  },
  {
   "cell_type": "code",
   "execution_count": 4,
   "id": "156131fa-1aad-4719-a12c-ed20b5e2355e",
   "metadata": {
    "tags": []
   },
   "outputs": [],
   "source": [
    "# Separate the data into two groups\n",
    "insurance_yes = df_final[df_final[\"Indicator:Stand-alone policy or plan for mental health\"] == \"Yes\"]\n",
    "insurance_no = df_final[df_final[\"Indicator:Stand-alone policy or plan for mental health\"] == \"No\"]\n"
   ]
  },
  {
   "cell_type": "code",
   "execution_count": 5,
   "id": "5d26c026-e090-4eb3-8e07-d21eb75fa0e6",
   "metadata": {
    "tags": []
   },
   "outputs": [
    {
     "name": "stdout",
     "output_type": "stream",
     "text": [
      "With Health Insurance:\n",
      "       Death rate per 100,000 people - Cause: Mental and substance use disorders - Sex: Both sexes - Age_group: ALLAges\n",
      "count                                         128.000000                                                               \n",
      "mean                                            3.565937                                                               \n",
      "std                                             3.993127                                                               \n",
      "min                                             0.340000                                                               \n",
      "25%                                             1.290000                                                               \n",
      "50%                                             2.270000                                                               \n",
      "75%                                             3.485000                                                               \n",
      "max                                            26.640000                                                               \n",
      "\n",
      "Without Health Insurance:\n",
      "       Death rate per 100,000 people - Cause: Mental and substance use disorders - Sex: Both sexes - Age_group: ALLAges\n",
      "count                                          35.000000                                                               \n",
      "mean                                            5.608857                                                               \n",
      "std                                             7.474335                                                               \n",
      "min                                             0.250000                                                               \n",
      "25%                                             1.315000                                                               \n",
      "50%                                             3.630000                                                               \n",
      "75%                                             6.155000                                                               \n",
      "max                                            37.480000                                                               \n"
     ]
    }
   ],
   "source": [
    "# Descriptive statistics\n",
    "desc_yes = insurance_yes[[\"Death rate per 100,000 people - Cause: Mental and substance use disorders - Sex: Both sexes - Age_group: ALLAges\"]].describe()\n",
    "desc_no = insurance_no[[\"Death rate per 100,000 people - Cause: Mental and substance use disorders - Sex: Both sexes - Age_group: ALLAges\"]].describe()\n",
    "\n",
    "print(\"With Health Insurance:\")\n",
    "print(desc_yes)\n",
    "print(\"\\nWithout Health Insurance:\")\n",
    "print(desc_no)\n"
   ]
  },
  {
   "cell_type": "code",
   "execution_count": 6,
   "id": "4bbf2096-4641-4108-9b94-8b42718dbacd",
   "metadata": {
    "tags": []
   },
   "outputs": [
    {
     "name": "stdout",
     "output_type": "stream",
     "text": [
      "T-test for Death Rate: t-statistic = [-1.55737975], p-value = [0.12736745]\n",
      "Fail to reject the null hypothesis: There is no significant difference.\n"
     ]
    }
   ],
   "source": [
    "# Perform t-test for death rate\n",
    "insurance_yes_2016 = insurance_yes[[\"Death rate per 100,000 people - Cause: Mental and substance use disorders - Sex: Both sexes - Age_group: ALLAges\"]]\n",
    "insurance_no_2016 = insurance_no[[\"Death rate per 100,000 people - Cause: Mental and substance use disorders - Sex: Both sexes - Age_group: ALLAges\"]]\n",
    "\n",
    "t_stat_death_rate, p_value_death_rate = ttest_ind(insurance_yes_2016, insurance_no_2016, equal_var=False)\n",
    "\n",
    "print(f\"T-test for Death Rate: t-statistic = {t_stat_death_rate}, p-value = {p_value_death_rate}\")\n",
    "\n",
    "# H0 is null hypothesis that there is no difference\n",
    "# Hypothesis testing\n",
    "alpha = 0.05\n",
    "if p_value_death_rate < alpha:\n",
    "    print(\"Reject the null hypothesis: There is a significant difference.\")\n",
    "else:\n",
    "    print(\"Fail to reject the null hypothesis: There is no significant difference.\")"
   ]
  },
  {
   "cell_type": "code",
   "execution_count": 7,
   "id": "99135dd4-94e9-474b-838d-06187bafb4b9",
   "metadata": {
    "tags": []
   },
   "outputs": [
    {
     "name": "stdout",
     "output_type": "stream",
     "text": [
      "95% Confidence Interval for Death Rate: [-5.05786602  0.15906205]\n",
      "Significant difference in Death Rate: False\n"
     ]
    }
   ],
   "source": [
    "# Perform bootstrapping\n",
    "def bootstrap(data1, data2, num_samples=1000):\n",
    "    means_diff = []\n",
    "    for _ in range(num_samples):\n",
    "        sample1 = data1.sample(frac=1, replace=True)\n",
    "        sample2 = data2.sample(frac=1, replace=True)\n",
    "        mean_diff = sample1.mean() - sample2.mean()\n",
    "        means_diff.append(mean_diff)\n",
    "    return np.array(means_diff)\n",
    "\n",
    "np.random.seed(0)  # For reproducibility\n",
    "bootstrap_death_rate = bootstrap(insurance_yes_2016, insurance_no_2016)\n",
    "conf_interval_death_rate = np.percentile(bootstrap_death_rate, [2.5, 97.5])\n",
    "\n",
    "\n",
    "print(f\"95% Confidence Interval for Death Rate: {conf_interval_death_rate}\")\n",
    "\n",
    "# Check if zero is within the confidence interval\n",
    "significant_death_rate = not (conf_interval_death_rate[0] <= 0 <= conf_interval_death_rate[1])\n",
    "\n",
    "print(f\"Significant difference in Death Rate: {significant_death_rate}\")\n",
    "\n"
   ]
  },
  {
   "cell_type": "code",
   "execution_count": null,
   "id": "b9e5b20b-d513-4bc9-9e85-d519a3fadb05",
   "metadata": {},
   "outputs": [],
   "source": []
  },
  {
   "cell_type": "code",
   "execution_count": null,
   "id": "6cadecb4-98e5-4939-bdd7-2f277d4c7ad5",
   "metadata": {},
   "outputs": [],
   "source": []
  }
 ],
 "metadata": {
  "kernelspec": {
   "display_name": "Python 3 (ipykernel)",
   "language": "python",
   "name": "python3"
  },
  "language_info": {
   "codemirror_mode": {
    "name": "ipython",
    "version": 3
   },
   "file_extension": ".py",
   "mimetype": "text/x-python",
   "name": "python",
   "nbconvert_exporter": "python",
   "pygments_lexer": "ipython3",
   "version": "3.11.4"
  }
 },
 "nbformat": 4,
 "nbformat_minor": 5
}

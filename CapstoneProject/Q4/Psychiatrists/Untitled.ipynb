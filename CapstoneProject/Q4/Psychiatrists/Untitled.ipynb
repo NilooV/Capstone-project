{
 "cells": [
  {
   "cell_type": "code",
   "execution_count": 7,
   "id": "309342b4-d2a7-48a3-95b0-a8ba2866d5f5",
   "metadata": {
    "tags": []
   },
   "outputs": [],
   "source": [
    "import pandas as pd\n",
    "import numpy as np\n",
    "import pandas as pd\n",
    "import matplotlib.pyplot as plt\n",
    "from scipy.stats import ttest_ind\n",
    "from scipy.stats import pearsonr\n",
    "\n",
    "# Load the datasets into Dataframes\n",
    "df = pd.read_csv('psychiatrists-working-in-the-mental-health-sector.csv')\n",
    "source1_df = pd.read_csv('death-rates-from-mental-and-substance-disorders-by-age-who.csv')\n",
    "\n",
    "# Merge the DataFrames based on both 'Country' and 'Year' columns\n",
    "merged_df = pd.merge(df, source1_df, on=['Entity', 'Year'], how='inner')\n",
    "\n",
    "# Save the merged data to modified_data.csv\n",
    "df_final = merged_df[merged_df[\"Year\"] == 2016]\n",
    "df_final.to_csv('merged_data.csv', index=False)"
   ]
  },
  {
   "cell_type": "code",
   "execution_count": 8,
   "id": "156131fa-1aad-4719-a12c-ed20b5e2355e",
   "metadata": {
    "tags": []
   },
   "outputs": [
    {
     "name": "stdout",
     "output_type": "stream",
     "text": [
      "Observed Correlation: 0.4440224728902288\n",
      "Permutation Test p-value: 0.001\n",
      "Reject the null hypothesis: There is a significant difference.\n"
     ]
    }
   ],
   "source": [
    "# Hypothesis Testing\n",
    "# Observed correlation\n",
    "observed_correlation, _ = pearsonr(df_final[\"Indicator:Psychiatrists working in mental health sector (per 100 000 population)\"], df_16[\"Death rate per 100,000 people - Cause: Mental and substance use disorders - Sex: Both sexes - Age_group: ALLAges\"])\n",
    "\n",
    "# Permutation test\n",
    "def permutation_test(data, num_permutations=1000):\n",
    "    permuted_correlations = []\n",
    "    for _ in range(num_permutations):\n",
    "        permuted_data = data.copy()\n",
    "        permuted_data[\"Death rate per 100,000 people - Cause: Mental and substance use disorders - Sex: Both sexes - Age_group: ALLAges\"] = np.random.permutation(permuted_data[\"Death rate per 100,000 people - Cause: Mental and substance use disorders - Sex: Both sexes - Age_group: ALLAges\"])\n",
    "        permuted_correlation, _ = pearsonr(permuted_data[\"Indicator:Psychiatrists working in mental health sector (per 100 000 population)\"], permuted_data[\"Death rate per 100,000 people - Cause: Mental and substance use disorders - Sex: Both sexes - Age_group: ALLAges\"])\n",
    "        permuted_correlations.append(permuted_correlation)\n",
    "    return np.array(permuted_correlations)\n",
    "\n",
    "permuted_correlations = permutation_test(df_16)\n",
    "\n",
    "# p-value calculation\n",
    "p_value = np.sum(np.abs(permuted_correlations) >= np.abs(observed_correlation)) / len(permuted_correlations)\n",
    "\n",
    "print(f\"Observed Correlation: {observed_correlation}\")\n",
    "print(f\"Permutation Test p-value: {p_value}\")\n",
    "# H0 is null hypothesis that there is no difference\n",
    "# H0 is null hypothesis that there is no difference\n",
    "# Hypothesis testing\n",
    "alpha = 0.05\n",
    "if p_value < alpha:\n",
    "    print(\"Reject the null hypothesis: There is a significant difference.\")\n",
    "else:\n",
    "    print(\"Fail to reject the null hypothesis: There is no significant difference.\")"
   ]
  },
  {
   "cell_type": "code",
   "execution_count": 9,
   "id": "5d26c026-e090-4eb3-8e07-d21eb75fa0e6",
   "metadata": {
    "tags": []
   },
   "outputs": [
    {
     "name": "stdout",
     "output_type": "stream",
     "text": [
      "Bootstrap Mean Correlation: 0.4678628296803498\n",
      "95% Confidence Interval: [0.33319653 0.6328219 ]\n",
      "Significant difference: True\n"
     ]
    }
   ],
   "source": [
    "# Perform bootstrapping\n",
    "def bootstrap_correlation(data, num_samples=1000):\n",
    "    correlations = []\n",
    "    for _ in range(num_samples):\n",
    "        sample = data.sample(frac=1, replace=True)\n",
    "        correlation = sample[\"Indicator:Psychiatrists working in mental health sector (per 100 000 population)\"].corr(sample[\"Death rate per 100,000 people - Cause: Mental and substance use disorders - Sex: Both sexes - Age_group: ALLAges\"])\n",
    "        correlations.append(correlation)\n",
    "    return np.array(correlations)\n",
    "\n",
    "np.random.seed(0)  # For reproducibility\n",
    "bootstrap_correlations = bootstrap_correlation(df_final)\n",
    "\n",
    "# Calculate the mean correlation and confidence intervals\n",
    "mean_correlation = bootstrap_correlations.mean()\n",
    "conf_interval = np.percentile(bootstrap_correlations, [2.5, 97.5])\n",
    "\n",
    "print(f\"Bootstrap Mean Correlation: {mean_correlation}\")\n",
    "print(f\"95% Confidence Interval: {conf_interval}\")\n",
    "# Check if zero is within the confidence interval\n",
    "significant_difference = not (conf_interval[0] <= 0 <= conf_interval[1])\n",
    "\n",
    "print(f\"Significant difference: {significant_difference }\")\n",
    "\n"
   ]
  },
  {
   "cell_type": "code",
   "execution_count": null,
   "id": "b9e5b20b-d513-4bc9-9e85-d519a3fadb05",
   "metadata": {},
   "outputs": [],
   "source": []
  },
  {
   "cell_type": "code",
   "execution_count": null,
   "id": "6cadecb4-98e5-4939-bdd7-2f277d4c7ad5",
   "metadata": {},
   "outputs": [],
   "source": []
  }
 ],
 "metadata": {
  "kernelspec": {
   "display_name": "Python 3 (ipykernel)",
   "language": "python",
   "name": "python3"
  },
  "language_info": {
   "codemirror_mode": {
    "name": "ipython",
    "version": 3
   },
   "file_extension": ".py",
   "mimetype": "text/x-python",
   "name": "python",
   "nbconvert_exporter": "python",
   "pygments_lexer": "ipython3",
   "version": "3.11.4"
  }
 },
 "nbformat": 4,
 "nbformat_minor": 5
}
